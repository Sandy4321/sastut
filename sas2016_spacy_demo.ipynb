{
 "cells": [
  {
   "cell_type": "code",
   "execution_count": null,
   "metadata": {
    "collapsed": true
   },
   "outputs": [],
   "source": [
    "# Follow the instructions here to install spacy and be able to run the commands\n",
    "# given below:\n",
    "#    https://spacy.io/docs#getting-started"
   ]
  },
  {
   "cell_type": "code",
   "execution_count": null,
   "metadata": {
    "collapsed": true,
    "slideshow": {
     "slide_type": "-"
    }
   },
   "outputs": [],
   "source": [
    "import spacy"
   ]
  },
  {
   "cell_type": "code",
   "execution_count": null,
   "metadata": {
    "collapsed": true
   },
   "outputs": [],
   "source": [
    "nlp = spacy.load('en')"
   ]
  },
  {
   "cell_type": "code",
   "execution_count": null,
   "metadata": {
    "collapsed": true
   },
   "outputs": [],
   "source": [
    "text = u\"Pierre Vinken, 61 years old, will join the board as a nonexecutive director Nov. 29. Mr. Vinken is chairman of Elsevier N.V., the Dutch publishing group. Rudolph Agnew, 55 years old and former chairman of Consolidated Gold Fields PLC, was named a director of this British industrial conglomerate.\"\n"
   ]
  },
  {
   "cell_type": "code",
   "execution_count": null,
   "metadata": {
    "collapsed": false
   },
   "outputs": [],
   "source": [
    "doc = nlp(text)"
   ]
  },
  {
   "cell_type": "code",
   "execution_count": null,
   "metadata": {
    "collapsed": false
   },
   "outputs": [],
   "source": [
    "# Show the detected sentences.\n",
    "for sent in doc.sents:\n",
    "    print sent"
   ]
  },
  {
   "cell_type": "code",
   "execution_count": null,
   "metadata": {
    "collapsed": false
   },
   "outputs": [],
   "source": [
    "# Show the detected tokens.\n",
    "index = 0\n",
    "for tok in doc:\n",
    "    print index, tok\n",
    "    index += 1"
   ]
  },
  {
   "cell_type": "code",
   "execution_count": null,
   "metadata": {
    "collapsed": false
   },
   "outputs": [],
   "source": [
    "# Show word similarities.\n",
    "# 29 is \"group\", 39 is \"chairman\", 49 is \"director\", 54 is \"conglomerate\"\n",
    "print doc[39].similarity(doc[49]), \"chairman <-> director\"\n",
    "print doc[39].similarity(doc[54]), \"chairman <-> conglomerate\"\n",
    "print \"----\"\n",
    "print doc[29].similarity(doc[49]), \"group <-> director\"\n",
    "print doc[29].similarity(doc[54]), \"group <-> conglomerate\"\n"
   ]
  },
  {
   "cell_type": "code",
   "execution_count": null,
   "metadata": {
    "collapsed": false
   },
   "outputs": [],
   "source": [
    "# Show the lemmas of each of the tokens, if not the same as the orthographic.\n",
    "# form.\n",
    "for tok in doc:\n",
    "    if (tok.lower_ != tok.lemma_):\n",
    "        print tok, tok.lemma_        "
   ]
  },
  {
   "cell_type": "code",
   "execution_count": null,
   "metadata": {
    "collapsed": false
   },
   "outputs": [],
   "source": [
    "# Rank the words from most probable to least.\n",
    "word_probs = set([(tok.prob, tok.orth_) for tok in doc])\n",
    "sorted_word_probs = sorted(word_probs,key=lambda tup: tup[0])\n",
    "sorted_word_probs.reverse()\n",
    "for prob,word in sorted_word_probs:\n",
    "    print prob, word"
   ]
  },
  {
   "cell_type": "code",
   "execution_count": null,
   "metadata": {
    "collapsed": true
   },
   "outputs": [],
   "source": [
    "# Get the first sentence.\n",
    "s1 = next(doc.sents)"
   ]
  },
  {
   "cell_type": "code",
   "execution_count": null,
   "metadata": {
    "collapsed": false
   },
   "outputs": [],
   "source": [
    "# Show the shapes of the tokens.\n",
    "for tok in s1:\n",
    "    print tok, tok.shape_"
   ]
  },
  {
   "cell_type": "code",
   "execution_count": null,
   "metadata": {
    "collapsed": false
   },
   "outputs": [],
   "source": [
    "# Show the part-of-speech tags.\n",
    "for tok in s1:\n",
    "    print tok.pos_,tok"
   ]
  },
  {
   "cell_type": "code",
   "execution_count": null,
   "metadata": {
    "collapsed": false
   },
   "outputs": [],
   "source": [
    "# Fine-grained POS tags too.\n",
    "for tok in s1:\n",
    "    print tok.pos_,tok.tag_,tok"
   ]
  },
  {
   "cell_type": "code",
   "execution_count": null,
   "metadata": {
    "collapsed": false
   },
   "outputs": [],
   "source": [
    "# Noun-phrase chunks.\n",
    "for chunk in doc.noun_chunks:\n",
    "    print chunk.label_, chunk.orth_"
   ]
  },
  {
   "cell_type": "code",
   "execution_count": null,
   "metadata": {
    "collapsed": false
   },
   "outputs": [],
   "source": [
    "# Named entities.\n",
    "for ent in doc.ents:\n",
    "    print ent.label_, ent"
   ]
  },
  {
   "cell_type": "code",
   "execution_count": null,
   "metadata": {
    "collapsed": false
   },
   "outputs": [],
   "source": [
    "# Show the syntactic head for each token.\n",
    "for tok in s1:\n",
    "    print tok, (\"--%s-->\" % tok.dep_), tok.head.orth_"
   ]
  },
  {
   "cell_type": "code",
   "execution_count": null,
   "metadata": {
    "collapsed": true
   },
   "outputs": [],
   "source": [
    "# Show the path from a token to the root. Adapted from spaCy docs.\n",
    "def dependency_labels_to_root(token):\n",
    "    '''Walk up the syntactic tree, collecting the arc labels.'''\n",
    "    dep_labels = []\n",
    "    while token.head is not token:\n",
    "        dependency = token.orth_+ \" \" +(\"--%s-->\" % token.dep_)+\" \" + token.head.orth_\n",
    "        dep_labels.append(dependency)\n",
    "        token = token.head\n",
    "    return dep_labels"
   ]
  },
  {
   "cell_type": "code",
   "execution_count": null,
   "metadata": {
    "collapsed": false
   },
   "outputs": [],
   "source": [
    "# Show the first sentence again, as a reminder.\n",
    "print s1"
   ]
  },
  {
   "cell_type": "code",
   "execution_count": null,
   "metadata": {
    "collapsed": false
   },
   "outputs": [],
   "source": [
    "# Path from \"years\"\n",
    "for dep in dependency_labels_to_root(s1[4]):\n",
    "    print dep"
   ]
  },
  {
   "cell_type": "code",
   "execution_count": null,
   "metadata": {
    "collapsed": false
   },
   "outputs": [],
   "source": [
    "# Path from \"nonexecutive\"\n",
    "for dep in dependency_labels_to_root(s1[13]):\n",
    "    print dep"
   ]
  },
  {
   "cell_type": "code",
   "execution_count": null,
   "metadata": {
    "collapsed": true
   },
   "outputs": [],
   "source": []
  }
 ],
 "metadata": {
  "kernelspec": {
   "display_name": "Python 2",
   "language": "python",
   "name": "python2"
  },
  "language_info": {
   "codemirror_mode": {
    "name": "ipython",
    "version": 2
   },
   "file_extension": ".py",
   "mimetype": "text/x-python",
   "name": "python",
   "nbconvert_exporter": "python",
   "pygments_lexer": "ipython2",
   "version": "2.7.10"
  }
 },
 "nbformat": 4,
 "nbformat_minor": 0
}
